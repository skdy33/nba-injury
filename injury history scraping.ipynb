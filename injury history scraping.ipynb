{
 "cells": [
  {
   "cell_type": "code",
   "execution_count": 1,
   "metadata": {
    "collapsed": true
   },
   "outputs": [],
   "source": [
    "from bs4 import BeautifulSoup as BS\n",
    "import requests\n",
    "import pandas as pd\n",
    "import numpy as np"
   ]
  },
  {
   "cell_type": "code",
   "execution_count": 25,
   "metadata": {
    "collapsed": true
   },
   "outputs": [],
   "source": [
    "#저장고\n",
    "data = []"
   ]
  },
  {
   "cell_type": "code",
   "execution_count": null,
   "metadata": {
    "collapsed": false
   },
   "outputs": [],
   "source": [
    "#먼저 url\n",
    "base_url = \"http://www.foxsports.com/nba/injuries?season=\"\n",
    "season = 1992 # to 2015\n",
    "month_url = \"&month=\"\n",
    "month = 1\n",
    "\n",
    "for season in range(1992,2016):\n",
    "    for month in range(1,13):\n",
    "        \n",
    "        #parsing\n",
    "        rq = requests.get(base_url+str(season)+month_url+str(month))\n",
    "        bs = BS(rq.text,\"html.parser\")\n",
    "        \n",
    "        #만약 data가 없을땐 continue 시켜야 한다.\n",
    "        if (len(bs.select(\"tbody\")) == 0):\n",
    "            continue\n",
    "        print (\"season: \",season,\" month: \",month)\n",
    "        for i in range(len(bs.select(\"tbody\")[0].select(\"tr\"))):\n",
    "            person = [\n",
    "                #date\n",
    "                bs.select(\"tbody\")[0].select(\"tr\")[i].select(\"td\")[0].text,\n",
    "                #team\n",
    "                bs.select(\"tbody\")[0].select(\"tr\")[i].select(\"td\")[1].text,\n",
    "                #player\n",
    "                bs.select(\"tbody\")[0].select(\"tr\")[i].select(\"td\")[2].text,\n",
    "                #injury\n",
    "                bs.select(\"tbody\")[0].select(\"tr\")[i].select(\"td\")[3].text\n",
    "                ]\n",
    "            data.append(person)"
   ]
  },
  {
   "cell_type": "code",
   "execution_count": 33,
   "metadata": {
    "collapsed": false
   },
   "outputs": [
    {
     "data": {
      "text/plain": [
       "True"
      ]
     },
     "execution_count": 33,
     "metadata": {},
     "output_type": "execute_result"
    }
   ],
   "source": [
    "#이제 data 저장.\n",
    "pd_data = pd(data)\n",
    "pd_data.columns = [\"date\",\"team\",\"player\",\"injury\"]\n",
    "pd_data.to_csv(\"injury history\")"
   ]
  },
  {
   "cell_type": "code",
   "execution_count": null,
   "metadata": {
    "collapsed": true
   },
   "outputs": [],
   "source": [
    "#이 파일에 daily injury update method 필요."
   ]
  }
 ],
 "metadata": {
  "kernelspec": {
   "display_name": "Python 3",
   "language": "python",
   "name": "python3"
  },
  "language_info": {
   "codemirror_mode": {
    "name": "ipython",
    "version": 3
   },
   "file_extension": ".py",
   "mimetype": "text/x-python",
   "name": "python",
   "nbconvert_exporter": "python",
   "pygments_lexer": "ipython3",
   "version": "3.4.2"
  }
 },
 "nbformat": 4,
 "nbformat_minor": 0
}
